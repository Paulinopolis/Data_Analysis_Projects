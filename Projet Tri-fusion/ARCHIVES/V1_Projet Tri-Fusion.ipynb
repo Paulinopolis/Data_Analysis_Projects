{
 "cells": [
  {
   "cell_type": "code",
   "execution_count": 44,
   "id": "d0fbd2f8-3f1f-4787-af98-e322981e718e",
   "metadata": {},
   "outputs": [
    {
     "name": "stdin",
     "output_type": "stream",
     "text": [
      "Enter your numbers, separated by a comma (',') 1,0.5,3.5,700,1.5\n"
     ]
    },
    {
     "name": "stdout",
     "output_type": "stream",
     "text": [
      "[1.0, 0.5, 3.5, 700.0, 1.5]\n",
      "[0.5, 1.0, 1.5, 3.5, 700.0]\n"
     ]
    }
   ],
   "source": [
    "#Code Paulina\n",
    "#Division de la liste en elements \n",
    "def merge_sort(liste_flottants):\n",
    "    \n",
    "#Si la liste comporte un élément, la function return cet élément\n",
    "    if  len(liste_flottants) <= 1: \n",
    "        return liste_flottants\n",
    "\n",
    "#Diviser la liste en deux moitiés\n",
    "    median = len(liste_flottants)//2\n",
    "    liste_d = liste_flottants[:median]\n",
    "    liste_g = liste_flottants[median:]\n",
    "\n",
    "#Appliquer la fonction aux moitiés\n",
    "    gauche = merge_sort(liste_d)\n",
    "    droite = merge_sort(liste_g)\n",
    "#Reconstituer la liste avec des éléments séparés\n",
    "    fusionne = fusion(gauche,droite)\n",
    "    return fusionne\n",
    "\n",
    "#Tri des éléments\n",
    "def fusion(tableau1,tableau2):\n",
    "    indice_tableau1 = 0\n",
    "    indice_tableau2 = 0    \n",
    "    taille_tableau1 = len(tableau1)\n",
    "    taille_tableau2 = len(tableau2)\n",
    "    tableau_fusionne = []\n",
    "    while indice_tableau1<taille_tableau1 and indice_tableau2<taille_tableau2:\n",
    "        if tableau1[indice_tableau1] < tableau2[indice_tableau2]:\n",
    "            tableau_fusionne.append(tableau1[indice_tableau1])\n",
    "            indice_tableau1 += 1\n",
    "        else:\n",
    "            tableau_fusionne.append(tableau2[indice_tableau2])\n",
    "            indice_tableau2 += 1\n",
    "    while indice_tableau1<taille_tableau1:\n",
    "        tableau_fusionne.append(tableau1[indice_tableau1])\n",
    "        indice_tableau1+=1\n",
    "    while indice_tableau2<taille_tableau2:\n",
    "        tableau_fusionne.append(tableau2[indice_tableau2])\n",
    "        indice_tableau2+=1\n",
    "    return tableau_fusionne\n",
    "\n",
    "#Request the user to enter the numbers\n",
    "user_input = input (\"Enter your numbers, separated by a comma (',')\")\n",
    "\n",
    "#Check that the input is not blank\n",
    "if user_input == '': \n",
    "    print (\"*You can't leave the space in blank*\")\n",
    "    \n",
    "#Convert the input (string version) in a float list   \n",
    "lst = (user_input.split(','))\n",
    "lst_float= [float(x) for x in lst]\n",
    "print(lst_float)\n",
    "\n",
    "#Apply the functions to the float list\n",
    "lst_trie = merge_sort(lst_float)\n",
    "print(lst_trie)"
   ]
  },
  {
   "cell_type": "code",
   "execution_count": 33,
   "id": "5ffd7264-a348-4867-9505-b9fbc4f89091",
   "metadata": {},
   "outputs": [
    {
     "name": "stdout",
     "output_type": "stream",
     "text": [
      "[3, 5, 11, 24, 46, 67, 222, 899]\n"
     ]
    }
   ],
   "source": [
    "lst = [11, 222, 3, 899, 24, 5, 46, 67]\n",
    "lst.sort()\n",
    "print(lst)"
   ]
  },
  {
   "cell_type": "code",
   "execution_count": null,
   "id": "11c6c1d3-42c1-451e-bf94-80491f930f02",
   "metadata": {},
   "outputs": [],
   "source": [
    "#Code Kaurs\n",
    "def mergesort(list1):\n",
    "#Condition pour diviser la liste \n",
    "    if len(list1)>1:  #Je divise seulement si la liste a plus d'elemts que 1 \n",
    "        middle = len(list1)//2 #divise la liste en 2 \n",
    "        left_sublist=list1[:middle] # prend les elemensts de gauche \n",
    "        right_sublist=list1[middle:] #prend les elements de droite \n",
    "        mergesort(left_sublist)#diviser encore gauche \n",
    "        mergesort(right_sublist)#diviser encore droite \n",
    "        i=0 #index de left_list\n",
    "        j=0\n",
    "        k=0    \n",
    "#comparer les valeurs dans la liste a gauche avec les valeurs dans la liste de droite\n",
    "#Mettre les index a 0 pour right_list , left_list, list1\n",
    "#Faut comparer ces valeurs plusieurs fois donc on peut utiliser la boucle while\n",
    "#Condition pour rassembler les elements \n",
    "        while i<len(left_sublist) and j<len(right_sublist):#Index doit etre plus petit que la longeur de la liste \n",
    "            if left_sublist[i]<right_sublist[j]:# si l'element de gauche est infereur a l'elemt de droite \n",
    "                list1[k]=left_sublist[i]#"
   ]
  },
  {
   "cell_type": "code",
   "execution_count": null,
   "id": "d3e46fcf-333b-42da-ba30-dbbfe80bddb7",
   "metadata": {},
   "outputs": [],
   "source": [
    "#Ecrire le numero d'elemets\n",
    "number=int(input(\"write the number of elents :\"))"
   ]
  },
  {
   "cell_type": "code",
   "execution_count": null,
   "id": "a922bb15-6043-4796-b07b-63d54f036945",
   "metadata": {},
   "outputs": [],
   "source": [
    "list1 =[int(input()) for x in range(number)]"
   ]
  },
  {
   "cell_type": "code",
   "execution_count": null,
   "id": "8e92e320-e71b-410c-955c-63d3fcc0a838",
   "metadata": {},
   "outputs": [],
   "source": [
    "mergesort(list1)\n",
    "print(\"sorted list is:\",list1)"
   ]
  }
 ],
 "metadata": {
  "kernelspec": {
   "display_name": "Python 3",
   "language": "python",
   "name": "python3"
  },
  "language_info": {
   "codemirror_mode": {
    "name": "ipython",
    "version": 3
   },
   "file_extension": ".py",
   "mimetype": "text/x-python",
   "name": "python",
   "nbconvert_exporter": "python",
   "pygments_lexer": "ipython3",
   "version": "3.8.2"
  }
 },
 "nbformat": 4,
 "nbformat_minor": 5
}
