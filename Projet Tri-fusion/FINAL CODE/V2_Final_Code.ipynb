{
 "cells": [
  {
   "cell_type": "code",
   "execution_count": null,
   "id": "2014413b-66a4-4def-aae9-e8ad8b28434f",
   "metadata": {},
   "outputs": [],
   "source": [
    "def division_liste(liste_flottants):\n",
    "    \n",
    "#Si la liste comporte un élément, la function return cet élément\n",
    "    if len(liste_flottants) <= 1: \n",
    "        return liste_flottants\n",
    "\n",
    "#Diviser la liste en deux moitiés\n",
    "    median = len(liste_flottants)//2\n",
    "    liste_d = liste_flottants[:median]\n",
    "    liste_g = liste_flottants[median:]\n",
    "\n",
    "#Appliquer la fonction aux moitiés\n",
    "    gauche = division_liste(liste_d)\n",
    "    droite = division_liste(liste_g)\n",
    "#Reconstituer la liste avec des éléments séparés\n",
    "    fusionne = fusion(gauche,droite)\n",
    "    return fusionne\n",
    "\n",
    "#Tri des éléments\n",
    "def fusion(tableau1,tableau2):\n",
    "    indice_tableau1 = 0\n",
    "    indice_tableau2 = 0    \n",
    "    taille_tableau1 = len(tableau1)\n",
    "    taille_tableau2 = len(tableau2)\n",
    "    tableau_fusionne = []\n",
    "\n",
    "#First, it checks the place of each element and compare it with the lenght of the \"table\". While the place (indice) is bigger than the number\n",
    "#of the elements, the code keeps going. It checks which number is bigger and place it at right or left. \n",
    "    while indice_tableau1<taille_tableau1 and indice_tableau2<taille_tableau2:\n",
    "        if tableau1[indice_tableau1] < tableau2[indice_tableau2]:\n",
    "            tableau_fusionne.append(tableau1[indice_tableau1])\n",
    "            indice_tableau1 += 1\n",
    "        else:\n",
    "            tableau_fusionne.append(tableau2[indice_tableau2])\n",
    "            indice_tableau2 += 1\n",
    "#Fusion de deux 'parties' (droite et gauche) pour sortir un tableau consolidé\n",
    "    while indice_tableau1<taille_tableau1:\n",
    "        tableau_fusionne.append(tableau1[indice_tableau1])\n",
    "        indice_tableau1+=1\n",
    "    while indice_tableau2<taille_tableau2:\n",
    "        tableau_fusionne.append(tableau2[indice_tableau2])\n",
    "        indice_tableau2+=1\n",
    "    return tableau_fusionne\n",
    "\n",
    "def merge_sort(u_input):\n",
    "    try:\n",
    "        # Convert list into float\n",
    "        lst_float= [float(x) for x in u_input]\n",
    "        print(lst_float)\n",
    "        lst_trie = division_liste(lst_float)\n",
    "        print(lst_trie)\n",
    "    except:\n",
    "        print (\"The values entered are not valid\")\n",
    "        return None"
   ]
  }
 ],
 "metadata": {
  "kernelspec": {
   "display_name": "Python 3",
   "language": "python",
   "name": "python3"
  },
  "language_info": {
   "codemirror_mode": {
    "name": "ipython",
    "version": 3
   },
   "file_extension": ".py",
   "mimetype": "text/x-python",
   "name": "python",
   "nbconvert_exporter": "python",
   "pygments_lexer": "ipython3",
   "version": "3.8.2"
  }
 },
 "nbformat": 4,
 "nbformat_minor": 5
}
